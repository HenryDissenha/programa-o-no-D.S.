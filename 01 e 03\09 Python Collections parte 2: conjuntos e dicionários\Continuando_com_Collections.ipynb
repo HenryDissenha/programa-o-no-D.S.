usuarios_data_science = [15, 23, 43, 56]
usuarios_machine_learning = [13, 23, 56, 42]
     

assistiram = usuarios_data_science.copy()
assistiram.extend(usuarios_machine_learning)
assistiram
     
[15, 23, 43, 56, 13, 23, 56, 42]

len(assistiram)
     
8

set(assistiram)
     
{13, 15, 23, 42, 43, 56}

set([1,2,3,1])
     
{1, 2, 3}

{4, 1,2,3,1}
     
{1, 2, 3, 4}

type({1,2})
     
set

usuarios_data_science = {15, 23, 43, 56}
usuarios_machine_learning = {13, 23, 56, 42}
     

usuarios_machine_learning
     
{13, 23, 42, 56}

usuarios_machine_learning[3]
     
---------------------------------------------------------------------------
TypeError                                 Traceback (most recent call last)
<ipython-input-18-ae55a602a7d7> in <module>()
----> 1 usuarios_machine_learning[3]

TypeError: 'set' object does not support indexing

for usuario in set(assistiram):
  print(usuario)
     
42
43
13
15
23
56

usuarios_data_science = {15, 23, 43, 56}
usuarios_machine_learning = {13, 23, 56, 42}
     

usuarios_data_science | usuarios_machine_learning
     
{13, 15, 23, 42, 43, 56}

usuarios_data_science & usuarios_machine_learning
     
{23, 56}

usuarios_data_science - usuarios_machine_learning
     
{15, 43}

fez_ds_mas_nao_fez_ml = usuarios_data_science - usuarios_machine_learning
15 in fez_ds_mas_nao_fez_ml
     
True

23 in fez_ds_mas_nao_fez_ml
     
False

usuarios_data_science ^ usuarios_machine_learning
     
{13, 15, 42, 43}

usuarios = {1,5,76,34,52,13,17}
len(usuarios)
     
7

usuarios.add(13)
len(usuarios)
     
7

usuarios.add(765)
len(usuarios)
     
8

usuarios
     
{1, 5, 13, 17, 34, 52, 76, 765}

usuarios = frozenset(usuarios)
usuarios
     
frozenset({1, 5, 13, 17, 34, 52, 76, 765})

type(usuarios)
     
frozenset

usuarios.add(134)
     
---------------------------------------------------------------------------
AttributeError                            Traceback (most recent call last)
<ipython-input-35-f85b988f2472> in <module>()
----> 1 usuarios.add(134)

AttributeError: 'frozenset' object has no attribute 'add'

meu_texto = "Bem vindo meu nome é Guilherme eu gosto muito de nomes e tenho o meu cachorro e gosto muito de cachorro"
meu_texto.split()
     
['Bem',
 'vindo',
 'meu',
 'nome',
 'é',
 'Guilherme',
 'eu',
 'gosto',
 'muito',
 'de',
 'nomes',
 'e',
 'tenho',
 'o',
 'meu',
 'cachorro',
 'e',
 'gosto',
 'muito',
 'de',
 'cachorro']

set(meu_texto.split())
     
{'Bem',
 'Guilherme',
 'cachorro',
 'de',
 'e',
 'eu',
 'gosto',
 'meu',
 'muito',
 'nome',
 'nomes',
 'o',
 'tenho',
 'vindo',
 'é'}
Dicionário (Mapa etc)

aparicoes = {
  "Guilherme" : 1,
  "cachorro" : 2,
  "nome" : 2,
  "vindo" : 1
}
     

type(aparicoes)
     
dict

aparicoes["Guilherme"]
     
1

aparicoes["cachorro"]
     
2

aparicoes["xpto"]
     
---------------------------------------------------------------------------
KeyError                                  Traceback (most recent call last)
<ipython-input-50-5844a27a46e4> in <module>()
----> 1 aparicoes["xpto"]

KeyError: 'xpto'

aparicoes.get("xpto", 0)
     
0

aparicoes.get("cachorro", 0)
     
2

aparicoes = dict(Guilherme = 2, cachorro = 1)
aparicoes
     
{'Guilherme': 2, 'cachorro': 1}

aparicoes = {
  "Guilherme" : 1,
  "cachorro" : 2,
  "nome" : 2,
  "vindo" : 1
}
     


     
